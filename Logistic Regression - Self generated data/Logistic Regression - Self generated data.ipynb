{
 "cells": [
  {
   "cell_type": "markdown",
   "metadata": {},
   "source": [
    "# Logistic Regression - Self generated data\n",
    "\n",
    "Using logistic regression machine learning model to predict classify data points"
   ]
  },
  {
   "cell_type": "markdown",
   "metadata": {},
   "source": [
    "## Pretrain procedure"
   ]
  },
  {
   "cell_type": "markdown",
   "metadata": {},
   "source": [
    "### Generate and prepare data"
   ]
  },
  {
   "cell_type": "code",
   "execution_count": 87,
   "metadata": {},
   "outputs": [],
   "source": [
    "from sklearn.metrics import confusion_matrix\n",
    "import pandas as pd"
   ]
  },
  {
   "cell_type": "code",
   "execution_count": 88,
   "metadata": {},
   "outputs": [],
   "source": [
    "# Generate and dataset for Logistic Regression\n",
    "from sklearn.datasets import make_classification\n",
    "X, y = make_classification (\n",
    "    n_samples=100,\n",
    "    n_features=1,\n",
    "    n_classes=2,\n",
    "    n_clusters_per_class=1,\n",
    "    n_informative=1,\n",
    "    n_redundant=0,\n",
    "    n_repeated=0\n",
    ")"
   ]
  },
  {
   "cell_type": "code",
   "execution_count": 89,
   "metadata": {},
   "outputs": [
    {
     "data": {
      "text/plain": [
       "array([[-1.43930984],\n",
       "       [-0.51983825],\n",
       "       [ 0.80990454],\n",
       "       [-0.87881066],\n",
       "       [ 1.22089094],\n",
       "       [ 1.05862852],\n",
       "       [-0.46314886],\n",
       "       [-1.76029684],\n",
       "       [-1.06964126],\n",
       "       [-0.6684871 ],\n",
       "       [ 0.81205263],\n",
       "       [ 1.16556473],\n",
       "       [ 0.97064824],\n",
       "       [ 0.95492068],\n",
       "       [ 1.17458183],\n",
       "       [ 1.30210224],\n",
       "       [-1.01606778],\n",
       "       [ 1.11473058],\n",
       "       [-1.07635081],\n",
       "       [ 0.92335152],\n",
       "       [ 0.61281173],\n",
       "       [-1.07507266],\n",
       "       [ 0.25275109],\n",
       "       [-1.02351581],\n",
       "       [ 1.26740304],\n",
       "       [ 0.74117288],\n",
       "       [-0.06946932],\n",
       "       [ 1.09667529],\n",
       "       [-0.28189515],\n",
       "       [-0.51972812],\n",
       "       [ 0.96001713],\n",
       "       [-2.40709298],\n",
       "       [ 0.76153828],\n",
       "       [ 0.76007847],\n",
       "       [ 0.76438587],\n",
       "       [ 1.46240709],\n",
       "       [ 1.19290158],\n",
       "       [-0.32276882],\n",
       "       [ 0.14444846],\n",
       "       [ 1.02931736],\n",
       "       [ 0.50634714],\n",
       "       [ 0.78693366],\n",
       "       [-0.15753216],\n",
       "       [ 0.94306272],\n",
       "       [ 1.29657789],\n",
       "       [-0.78160554],\n",
       "       [-0.36808815],\n",
       "       [ 1.11160297],\n",
       "       [-1.1932716 ],\n",
       "       [ 0.95705943],\n",
       "       [ 1.07612953],\n",
       "       [ 0.69646363],\n",
       "       [-0.66617957],\n",
       "       [-0.70682401],\n",
       "       [ 0.82229193],\n",
       "       [-1.91637428],\n",
       "       [-0.15959114],\n",
       "       [-1.19631247],\n",
       "       [ 1.05676161],\n",
       "       [ 1.37943099],\n",
       "       [-2.68172272],\n",
       "       [-1.2055903 ],\n",
       "       [ 1.07132098],\n",
       "       [-0.75918076],\n",
       "       [ 0.91026717],\n",
       "       [ 0.7922773 ],\n",
       "       [-0.97507349],\n",
       "       [-0.95114748],\n",
       "       [ 1.19392998],\n",
       "       [ 0.8165676 ],\n",
       "       [-0.72522559],\n",
       "       [-0.50280147],\n",
       "       [ 1.10962804],\n",
       "       [-1.25873457],\n",
       "       [ 0.65857948],\n",
       "       [-1.02552986],\n",
       "       [-0.97985471],\n",
       "       [-1.19545606],\n",
       "       [ 1.11733588],\n",
       "       [-0.39834491],\n",
       "       [-0.18964721],\n",
       "       [ 1.18473926],\n",
       "       [-1.48796785],\n",
       "       [ 1.09003156],\n",
       "       [ 0.71575479],\n",
       "       [ 1.11445555],\n",
       "       [-1.51854751],\n",
       "       [ 1.3829718 ],\n",
       "       [-0.32719634],\n",
       "       [-1.30905301],\n",
       "       [ 1.28591335],\n",
       "       [-0.58847937],\n",
       "       [-0.82709168],\n",
       "       [ 0.94739426],\n",
       "       [ 1.1319771 ],\n",
       "       [ 0.86004526],\n",
       "       [-0.81500363],\n",
       "       [-2.06110751],\n",
       "       [-1.49723325],\n",
       "       [ 0.47538998]])"
      ]
     },
     "execution_count": 89,
     "metadata": {},
     "output_type": "execute_result"
    }
   ],
   "source": [
    "X"
   ]
  },
  {
   "cell_type": "code",
   "execution_count": 90,
   "metadata": {},
   "outputs": [
    {
     "data": {
      "text/plain": [
       "array([0, 0, 1, 0, 1, 1, 0, 0, 0, 0, 1, 1, 1, 1, 1, 1, 0, 1, 0, 1, 1, 0,\n",
       "       0, 0, 1, 1, 0, 1, 0, 0, 1, 0, 1, 1, 1, 1, 1, 0, 0, 1, 0, 1, 0, 1,\n",
       "       1, 0, 0, 1, 0, 1, 1, 1, 0, 0, 1, 0, 0, 0, 1, 1, 0, 0, 1, 0, 1, 1,\n",
       "       0, 0, 1, 1, 0, 0, 1, 0, 1, 0, 0, 0, 1, 0, 0, 1, 0, 1, 1, 1, 0, 1,\n",
       "       0, 0, 1, 0, 0, 1, 1, 1, 0, 0, 0, 1])"
      ]
     },
     "execution_count": 90,
     "metadata": {},
     "output_type": "execute_result"
    }
   ],
   "source": [
    "y"
   ]
  },
  {
   "cell_type": "code",
   "execution_count": 91,
   "metadata": {},
   "outputs": [
    {
     "data": {
      "image/png": "[encoded data removed]",
      "text/plain": [
       "<Figure size 640x480 with 1 Axes>"
      ]
     },
     "metadata": {},
     "output_type": "display_data"
    }
   ],
   "source": [
    "# Visualize the Data by creating a scatter plot\n",
    "from matplotlib import pyplot as plt\n",
    "plt.scatter(X, y, c=y, cmap='rainbow')\n",
    "plt.title( 'Scatter Plot of Logistic Regression')\n",
    "plt.show()"
   ]
  },
  {
   "cell_type": "markdown",
   "metadata": {},
   "source": [
    "### Splitting data"
   ]
  },
  {
   "cell_type": "code",
   "execution_count": 92,
   "metadata": {},
   "outputs": [],
   "source": [
    "# Step 4: Split the Dataset\n",
    "from sklearn.model_selection import train_test_split\n",
    "X_train, X_test, y_train, y_test = train_test_split(X, y, random_state=1)"
   ]
  },
  {
   "cell_type": "code",
   "execution_count": 93,
   "metadata": {},
   "outputs": [
    {
     "data": {
      "text/plain": [
       "array([[ 1.46240709],\n",
       "       [ 1.1319771 ],\n",
       "       [ 1.09667529],\n",
       "       [-0.36808815],\n",
       "       [ 0.14444846],\n",
       "       [-0.95114748],\n",
       "       [ 0.47538998],\n",
       "       [ 0.82229193],\n",
       "       [ 0.86004526],\n",
       "       [-0.32719634],\n",
       "       [ 0.50634714],\n",
       "       [-1.1932716 ],\n",
       "       [ 1.37943099],\n",
       "       [-1.02351581],\n",
       "       [ 0.76438587],\n",
       "       [-1.51854751],\n",
       "       [-0.70682401],\n",
       "       [-1.19545606],\n",
       "       [ 1.30210224],\n",
       "       [ 1.09003156],\n",
       "       [ 0.78693366],\n",
       "       [-0.78160554],\n",
       "       [-0.58847937],\n",
       "       [-0.06946932],\n",
       "       [-1.49723325],\n",
       "       [ 0.94306272],\n",
       "       [-1.91637428],\n",
       "       [ 1.26740304],\n",
       "       [ 1.22089094],\n",
       "       [ 1.05676161],\n",
       "       [ 0.95705943],\n",
       "       [-1.07507266],\n",
       "       [ 1.3829718 ],\n",
       "       [-0.87881066],\n",
       "       [ 0.65857948],\n",
       "       [ 0.96001713],\n",
       "       [-0.97507349],\n",
       "       [-0.72522559],\n",
       "       [-0.15753216],\n",
       "       [ 1.11160297],\n",
       "       [-1.30905301],\n",
       "       [-1.06964126],\n",
       "       [-2.68172272],\n",
       "       [-1.43930984],\n",
       "       [ 1.28591335],\n",
       "       [-1.19631247],\n",
       "       [ 0.25275109],\n",
       "       [-1.2055903 ],\n",
       "       [-0.75918076],\n",
       "       [-1.76029684],\n",
       "       [-0.81500363],\n",
       "       [ 0.95492068],\n",
       "       [ 1.19392998],\n",
       "       [ 1.11445555],\n",
       "       [ 1.17458183],\n",
       "       [-0.51972812],\n",
       "       [-0.28189515],\n",
       "       [ 1.16556473],\n",
       "       [-1.07635081],\n",
       "       [ 0.61281173],\n",
       "       [ 1.07612953],\n",
       "       [ 0.74117288],\n",
       "       [-0.46314886],\n",
       "       [-0.50280147],\n",
       "       [-0.97985471],\n",
       "       [-0.51983825],\n",
       "       [-1.01606778],\n",
       "       [ 0.91026717],\n",
       "       [-0.39834491],\n",
       "       [ 1.05862852],\n",
       "       [-1.02552986],\n",
       "       [-0.6684871 ],\n",
       "       [ 1.10962804],\n",
       "       [ 0.97064824],\n",
       "       [-0.32276882]])"
      ]
     },
     "execution_count": 93,
     "metadata": {},
     "output_type": "execute_result"
    }
   ],
   "source": [
    "X_train"
   ]
  },
  {
   "cell_type": "code",
   "execution_count": 94,
   "metadata": {},
   "outputs": [
    {
     "data": {
      "text/plain": [
       "array([1, 1, 1, 0, 0, 0, 1, 1, 1, 0, 0, 0, 1, 0, 1, 0, 0, 0, 1, 1, 1, 0,\n",
       "       0, 0, 0, 1, 0, 1, 1, 1, 1, 0, 1, 0, 1, 1, 0, 0, 0, 1, 0, 0, 0, 0,\n",
       "       1, 0, 0, 0, 0, 0, 0, 1, 1, 1, 1, 0, 0, 1, 0, 1, 1, 1, 0, 0, 0, 0,\n",
       "       0, 1, 0, 1, 0, 0, 1, 1, 0])"
      ]
     },
     "execution_count": 94,
     "metadata": {},
     "output_type": "execute_result"
    }
   ],
   "source": [
    "y_train"
   ]
  },
  {
   "cell_type": "markdown",
   "metadata": {},
   "source": [
    "### Prepare Machine Learning Models"
   ]
  },
  {
   "cell_type": "code",
   "execution_count": 95,
   "metadata": {},
   "outputs": [],
   "source": [
    "from sklearn.linear_model import LogisticRegression\n",
    "log_reg = LogisticRegression()"
   ]
  },
  {
   "cell_type": "markdown",
   "metadata": {},
   "source": [
    "## Training the machine learning model"
   ]
  },
  {
   "cell_type": "code",
   "execution_count": 96,
   "metadata": {},
   "outputs": [
    {
     "data": {
      "text/plain": [
       "LogisticRegression()"
      ]
     },
     "execution_count": 96,
     "metadata": {},
     "output_type": "execute_result"
    }
   ],
   "source": [
    "log_reg.fit(X_train, y_train)"
   ]
  },
  {
   "cell_type": "code",
   "execution_count": 97,
   "metadata": {},
   "outputs": [
    {
     "data": {
      "text/plain": [
       "array([-0.92112977])"
      ]
     },
     "execution_count": 97,
     "metadata": {},
     "output_type": "execute_result"
    }
   ],
   "source": [
    "c = log_reg.intercept_\n",
    "c"
   ]
  },
  {
   "cell_type": "code",
   "execution_count": 98,
   "metadata": {},
   "outputs": [
    {
     "data": {
      "text/plain": [
       "array([-0.92112977])"
      ]
     },
     "execution_count": 98,
     "metadata": {},
     "output_type": "execute_result"
    }
   ],
   "source": [
    "m = log_reg.intercept_\n",
    "m"
   ]
  },
  {
   "cell_type": "markdown",
   "metadata": {},
   "source": [
    "## Predictions"
   ]
  },
  {
   "cell_type": "markdown",
   "metadata": {},
   "source": [
    "### Prediction on the training data"
   ]
  },
  {
   "cell_type": "code",
   "execution_count": 99,
   "metadata": {},
   "outputs": [
    {
     "data": {
      "text/plain": [
       "array([1, 1, 1, 0, 0, 0, 1, 1, 1, 0, 1, 0, 1, 0, 1, 0, 0, 0, 1, 1, 1, 0,\n",
       "       0, 0, 0, 1, 0, 1, 1, 1, 1, 0, 1, 0, 1, 1, 0, 0, 0, 1, 0, 0, 0, 0,\n",
       "       1, 0, 0, 0, 0, 0, 0, 1, 1, 1, 1, 0, 0, 1, 0, 1, 1, 1, 0, 0, 0, 0,\n",
       "       0, 1, 0, 1, 0, 0, 1, 1, 0])"
      ]
     },
     "execution_count": 99,
     "metadata": {},
     "output_type": "execute_result"
    }
   ],
   "source": [
    "y_pred_train = log_reg.predict(X_train)\n",
    "y_pred_train"
   ]
  },
  {
   "cell_type": "code",
   "execution_count": 100,
   "metadata": {},
   "outputs": [
    {
     "data": {
      "text/plain": [
       "array([[41,  1],\n",
       "       [ 0, 33]], dtype=int64)"
      ]
     },
     "execution_count": 100,
     "metadata": {},
     "output_type": "execute_result"
    }
   ],
   "source": [
    "confusion_matrix(y_train, y_pred_train)"
   ]
  },
  {
   "cell_type": "markdown",
   "metadata": {},
   "source": [
    "### Prediction on the test data"
   ]
  },
  {
   "cell_type": "code",
   "execution_count": 101,
   "metadata": {},
   "outputs": [],
   "source": [
    "# Perform prediction using the test dataset\n",
    "y_pred = log_reg.predict(X_test)"
   ]
  },
  {
   "cell_type": "markdown",
   "metadata": {},
   "source": [
    "## Accuracy of the machine learning model"
   ]
  },
  {
   "cell_type": "code",
   "execution_count": 102,
   "metadata": {},
   "outputs": [
    {
     "data": {
      "text/plain": [
       "array([[ 8,  0],\n",
       "       [ 0, 17]], dtype=int64)"
      ]
     },
     "execution_count": 102,
     "metadata": {},
     "output_type": "execute_result"
    }
   ],
   "source": [
    "# Step 7: Display the Confusion Matrix\n",
    "confusion_matrix(y_test, y_pred)"
   ]
  }
 ],
 "metadata": {
  "kernelspec": {
   "display_name": "Python 3",
   "language": "python",
   "name": "python3"
  },
  "language_info": {
   "codemirror_mode": {
    "name": "ipython",
    "version": 3
   },
   "file_extension": ".py",
   "mimetype": "text/x-python",
   "name": "python",
   "nbconvert_exporter": "python",
   "pygments_lexer": "ipython3",
   "version": "3.9.12"
  }
 },
 "nbformat": 4,
 "nbformat_minor": 2
}
