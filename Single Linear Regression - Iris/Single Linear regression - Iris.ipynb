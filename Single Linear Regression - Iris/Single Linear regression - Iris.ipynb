{
 "cells": [
  {
   "cell_type": "markdown",
   "metadata": {},
   "source": [
    "# Single Linear Regression - Iris\n",
    "\n",
    "Using single linear regression machine learning model to predict petal_width using only petal_length"
   ]
  },
  {
   "cell_type": "markdown",
   "metadata": {},
   "source": [
    "## Pretrain procedure"
   ]
  },
  {
   "cell_type": "markdown",
   "metadata": {},
   "source": [
    "### Import data"
   ]
  },
  {
   "cell_type": "code",
   "execution_count": 48,
   "metadata": {},
   "outputs": [],
   "source": [
    "import seaborn as sns\n",
    "iris = sns.load_dataset('iris')"
   ]
  },
  {
   "cell_type": "code",
   "execution_count": 49,
   "metadata": {},
   "outputs": [
    {
     "data": {
      "text/html": [
       "<div>\n",
       "<style scoped>\n",
       "    .dataframe tbody tr th:only-of-type {\n",
       "        vertical-align: middle;\n",
       "    }\n",
       "\n",
       "    .dataframe tbody tr th {\n",
       "        vertical-align: top;\n",
       "    }\n",
       "\n",
       "    .dataframe thead th {\n",
       "        text-align: right;\n",
       "    }\n",
       "</style>\n",
       "<table border=\"1\" class=\"dataframe\">\n",
       "  <thead>\n",
       "    <tr style=\"text-align: right;\">\n",
       "      <th></th>\n",
       "      <th>sepal_length</th>\n",
       "      <th>sepal_width</th>\n",
       "      <th>petal_length</th>\n",
       "      <th>petal_width</th>\n",
       "      <th>species</th>\n",
       "    </tr>\n",
       "  </thead>\n",
       "  <tbody>\n",
       "    <tr>\n",
       "      <th>0</th>\n",
       "      <td>5.1</td>\n",
       "      <td>3.5</td>\n",
       "      <td>1.4</td>\n",
       "      <td>0.2</td>\n",
       "      <td>setosa</td>\n",
       "    </tr>\n",
       "    <tr>\n",
       "      <th>1</th>\n",
       "      <td>4.9</td>\n",
       "      <td>3.0</td>\n",
       "      <td>1.4</td>\n",
       "      <td>0.2</td>\n",
       "      <td>setosa</td>\n",
       "    </tr>\n",
       "    <tr>\n",
       "      <th>2</th>\n",
       "      <td>4.7</td>\n",
       "      <td>3.2</td>\n",
       "      <td>1.3</td>\n",
       "      <td>0.2</td>\n",
       "      <td>setosa</td>\n",
       "    </tr>\n",
       "    <tr>\n",
       "      <th>3</th>\n",
       "      <td>4.6</td>\n",
       "      <td>3.1</td>\n",
       "      <td>1.5</td>\n",
       "      <td>0.2</td>\n",
       "      <td>setosa</td>\n",
       "    </tr>\n",
       "    <tr>\n",
       "      <th>4</th>\n",
       "      <td>5.0</td>\n",
       "      <td>3.6</td>\n",
       "      <td>1.4</td>\n",
       "      <td>0.2</td>\n",
       "      <td>setosa</td>\n",
       "    </tr>\n",
       "    <tr>\n",
       "      <th>...</th>\n",
       "      <td>...</td>\n",
       "      <td>...</td>\n",
       "      <td>...</td>\n",
       "      <td>...</td>\n",
       "      <td>...</td>\n",
       "    </tr>\n",
       "    <tr>\n",
       "      <th>145</th>\n",
       "      <td>6.7</td>\n",
       "      <td>3.0</td>\n",
       "      <td>5.2</td>\n",
       "      <td>2.3</td>\n",
       "      <td>virginica</td>\n",
       "    </tr>\n",
       "    <tr>\n",
       "      <th>146</th>\n",
       "      <td>6.3</td>\n",
       "      <td>2.5</td>\n",
       "      <td>5.0</td>\n",
       "      <td>1.9</td>\n",
       "      <td>virginica</td>\n",
       "    </tr>\n",
       "    <tr>\n",
       "      <th>147</th>\n",
       "      <td>6.5</td>\n",
       "      <td>3.0</td>\n",
       "      <td>5.2</td>\n",
       "      <td>2.0</td>\n",
       "      <td>virginica</td>\n",
       "    </tr>\n",
       "    <tr>\n",
       "      <th>148</th>\n",
       "      <td>6.2</td>\n",
       "      <td>3.4</td>\n",
       "      <td>5.4</td>\n",
       "      <td>2.3</td>\n",
       "      <td>virginica</td>\n",
       "    </tr>\n",
       "    <tr>\n",
       "      <th>149</th>\n",
       "      <td>5.9</td>\n",
       "      <td>3.0</td>\n",
       "      <td>5.1</td>\n",
       "      <td>1.8</td>\n",
       "      <td>virginica</td>\n",
       "    </tr>\n",
       "  </tbody>\n",
       "</table>\n",
       "<p>150 rows × 5 columns</p>\n",
       "</div>"
      ],
      "text/plain": [
       "     sepal_length  sepal_width  petal_length  petal_width    species\n",
       "0             5.1          3.5           1.4          0.2     setosa\n",
       "1             4.9          3.0           1.4          0.2     setosa\n",
       "2             4.7          3.2           1.3          0.2     setosa\n",
       "3             4.6          3.1           1.5          0.2     setosa\n",
       "4             5.0          3.6           1.4          0.2     setosa\n",
       "..            ...          ...           ...          ...        ...\n",
       "145           6.7          3.0           5.2          2.3  virginica\n",
       "146           6.3          2.5           5.0          1.9  virginica\n",
       "147           6.5          3.0           5.2          2.0  virginica\n",
       "148           6.2          3.4           5.4          2.3  virginica\n",
       "149           5.9          3.0           5.1          1.8  virginica\n",
       "\n",
       "[150 rows x 5 columns]"
      ]
     },
     "execution_count": 49,
     "metadata": {},
     "output_type": "execute_result"
    }
   ],
   "source": [
    "iris"
   ]
  },
  {
   "cell_type": "markdown",
   "metadata": {},
   "source": [
    "### Prepare data\n",
    "1. Dropped irelevant columns\n",
    "1. Set y and X"
   ]
  },
  {
   "cell_type": "code",
   "execution_count": 50,
   "metadata": {},
   "outputs": [],
   "source": [
    "## We will be using only two variables in our linear regression model. In this case, we choose petal length and petal width\n",
    "prepared_iris = iris[['petal_length', 'petal_width']]"
   ]
  },
  {
   "cell_type": "code",
   "execution_count": 51,
   "metadata": {},
   "outputs": [
    {
     "data": {
      "text/html": [
       "<div>\n",
       "<style scoped>\n",
       "    .dataframe tbody tr th:only-of-type {\n",
       "        vertical-align: middle;\n",
       "    }\n",
       "\n",
       "    .dataframe tbody tr th {\n",
       "        vertical-align: top;\n",
       "    }\n",
       "\n",
       "    .dataframe thead th {\n",
       "        text-align: right;\n",
       "    }\n",
       "</style>\n",
       "<table border=\"1\" class=\"dataframe\">\n",
       "  <thead>\n",
       "    <tr style=\"text-align: right;\">\n",
       "      <th></th>\n",
       "      <th>petal_length</th>\n",
       "      <th>petal_width</th>\n",
       "    </tr>\n",
       "  </thead>\n",
       "  <tbody>\n",
       "    <tr>\n",
       "      <th>0</th>\n",
       "      <td>1.4</td>\n",
       "      <td>0.2</td>\n",
       "    </tr>\n",
       "    <tr>\n",
       "      <th>1</th>\n",
       "      <td>1.4</td>\n",
       "      <td>0.2</td>\n",
       "    </tr>\n",
       "    <tr>\n",
       "      <th>2</th>\n",
       "      <td>1.3</td>\n",
       "      <td>0.2</td>\n",
       "    </tr>\n",
       "    <tr>\n",
       "      <th>3</th>\n",
       "      <td>1.5</td>\n",
       "      <td>0.2</td>\n",
       "    </tr>\n",
       "    <tr>\n",
       "      <th>4</th>\n",
       "      <td>1.4</td>\n",
       "      <td>0.2</td>\n",
       "    </tr>\n",
       "    <tr>\n",
       "      <th>...</th>\n",
       "      <td>...</td>\n",
       "      <td>...</td>\n",
       "    </tr>\n",
       "    <tr>\n",
       "      <th>145</th>\n",
       "      <td>5.2</td>\n",
       "      <td>2.3</td>\n",
       "    </tr>\n",
       "    <tr>\n",
       "      <th>146</th>\n",
       "      <td>5.0</td>\n",
       "      <td>1.9</td>\n",
       "    </tr>\n",
       "    <tr>\n",
       "      <th>147</th>\n",
       "      <td>5.2</td>\n",
       "      <td>2.0</td>\n",
       "    </tr>\n",
       "    <tr>\n",
       "      <th>148</th>\n",
       "      <td>5.4</td>\n",
       "      <td>2.3</td>\n",
       "    </tr>\n",
       "    <tr>\n",
       "      <th>149</th>\n",
       "      <td>5.1</td>\n",
       "      <td>1.8</td>\n",
       "    </tr>\n",
       "  </tbody>\n",
       "</table>\n",
       "<p>150 rows × 2 columns</p>\n",
       "</div>"
      ],
      "text/plain": [
       "     petal_length  petal_width\n",
       "0             1.4          0.2\n",
       "1             1.4          0.2\n",
       "2             1.3          0.2\n",
       "3             1.5          0.2\n",
       "4             1.4          0.2\n",
       "..            ...          ...\n",
       "145           5.2          2.3\n",
       "146           5.0          1.9\n",
       "147           5.2          2.0\n",
       "148           5.4          2.3\n",
       "149           5.1          1.8\n",
       "\n",
       "[150 rows x 2 columns]"
      ]
     },
     "execution_count": 51,
     "metadata": {},
     "output_type": "execute_result"
    }
   ],
   "source": [
    "prepared_iris"
   ]
  },
  {
   "cell_type": "code",
   "execution_count": 52,
   "metadata": {},
   "outputs": [],
   "source": [
    "## y = mX + c\n",
    "y = prepared_iris['petal_width']\n",
    "X = prepared_iris['petal_length']"
   ]
  },
  {
   "cell_type": "code",
   "execution_count": 53,
   "metadata": {},
   "outputs": [
    {
     "data": {
      "text/plain": [
       "Text(0, 0.5, 'petal width')"
      ]
     },
     "execution_count": 53,
     "metadata": {},
     "output_type": "execute_result"
    },
    {
     "data": {
      "image/png": "[encoded data removed]",
      "text/plain": [
       "<Figure size 640x480 with 1 Axes>"
      ]
     },
     "metadata": {},
     "output_type": "display_data"
    }
   ],
   "source": [
    "import matplotlib.pyplot as plt\n",
    "plt.scatter(X, y)\n",
    "plt.xlabel(\"petal length\")\n",
    "plt.ylabel(\"petal width\")"
   ]
  },
  {
   "cell_type": "markdown",
   "metadata": {},
   "source": [
    "### Splitting data"
   ]
  },
  {
   "cell_type": "code",
   "execution_count": 54,
   "metadata": {},
   "outputs": [],
   "source": [
    "## Use sklearn.model_selection train_test_split function to split our datasets\n",
    "from sklearn.model_selection import train_test_split\n",
    "X_train, X_test, y_train, y_test = train_test_split(X, y, test_size = 0.4, random_state = 23)"
   ]
  },
  {
   "cell_type": "code",
   "execution_count": 55,
   "metadata": {},
   "outputs": [
    {
     "data": {
      "text/plain": [
       "77     5.0\n",
       "29     1.6\n",
       "92     4.0\n",
       "23     1.7\n",
       "128    5.6\n",
       "      ... \n",
       "39     1.5\n",
       "91     4.6\n",
       "31     1.5\n",
       "40     1.3\n",
       "83     5.1\n",
       "Name: petal_length, Length: 90, dtype: float64"
      ]
     },
     "execution_count": 55,
     "metadata": {},
     "output_type": "execute_result"
    }
   ],
   "source": [
    "X_train"
   ]
  },
  {
   "cell_type": "code",
   "execution_count": 56,
   "metadata": {},
   "outputs": [
    {
     "data": {
      "text/plain": [
       "array([[5. ],\n",
       "       [1.6],\n",
       "       [4. ],\n",
       "       [1.7],\n",
       "       [5.6],\n",
       "       [4. ],\n",
       "       [4.8],\n",
       "       [5.6],\n",
       "       [5.1],\n",
       "       [4.9],\n",
       "       [1.4],\n",
       "       [1.6],\n",
       "       [5.6],\n",
       "       [1.4],\n",
       "       [1.6],\n",
       "       [5.5],\n",
       "       [5.1],\n",
       "       [4. ],\n",
       "       [1.4],\n",
       "       [4.1],\n",
       "       [5.3],\n",
       "       [4.5],\n",
       "       [5.8],\n",
       "       [6.6],\n",
       "       [4.3],\n",
       "       [1.3],\n",
       "       [4. ],\n",
       "       [4.9],\n",
       "       [4.9],\n",
       "       [4. ],\n",
       "       [1.5],\n",
       "       [4.5],\n",
       "       [4.5],\n",
       "       [3.9],\n",
       "       [5. ],\n",
       "       [4.8],\n",
       "       [3.8],\n",
       "       [5.1],\n",
       "       [6.3],\n",
       "       [6.1],\n",
       "       [1.2],\n",
       "       [5.7],\n",
       "       [3. ],\n",
       "       [1.5],\n",
       "       [5.9],\n",
       "       [4.8],\n",
       "       [1.4],\n",
       "       [4.5],\n",
       "       [4.2],\n",
       "       [5.2],\n",
       "       [1.3],\n",
       "       [1. ],\n",
       "       [3.5],\n",
       "       [1.1],\n",
       "       [4.7],\n",
       "       [4.2],\n",
       "       [1.2],\n",
       "       [5.8],\n",
       "       [4.3],\n",
       "       [4.5],\n",
       "       [1.6],\n",
       "       [6.9],\n",
       "       [4.6],\n",
       "       [5.1],\n",
       "       [5.6],\n",
       "       [4.7],\n",
       "       [1.5],\n",
       "       [1.6],\n",
       "       [5.5],\n",
       "       [5.8],\n",
       "       [4.4],\n",
       "       [1.3],\n",
       "       [5.2],\n",
       "       [3.3],\n",
       "       [5.7],\n",
       "       [3.5],\n",
       "       [1.3],\n",
       "       [1.5],\n",
       "       [1.5],\n",
       "       [5.1],\n",
       "       [1.4],\n",
       "       [1.4],\n",
       "       [4.9],\n",
       "       [1.4],\n",
       "       [4.4],\n",
       "       [1.5],\n",
       "       [4.6],\n",
       "       [1.5],\n",
       "       [1.3],\n",
       "       [5.1]])"
      ]
     },
     "execution_count": 56,
     "metadata": {},
     "output_type": "execute_result"
    }
   ],
   "source": [
    "import numpy as np\n",
    "X_train = np.array(X_train).reshape(-1, 1)\n",
    "X_train"
   ]
  },
  {
   "cell_type": "code",
   "execution_count": 57,
   "metadata": {},
   "outputs": [
    {
     "data": {
      "text/plain": [
       "array([[5.4],\n",
       "       [6. ],\n",
       "       [4.1],\n",
       "       [1.5],\n",
       "       [5. ],\n",
       "       [4.9],\n",
       "       [1.7],\n",
       "       [5.5],\n",
       "       [1.7],\n",
       "       [3.6],\n",
       "       [4.7],\n",
       "       [1.6],\n",
       "       [5.9],\n",
       "       [1.5],\n",
       "       [1.5],\n",
       "       [5.1],\n",
       "       [4.5],\n",
       "       [4.7],\n",
       "       [6.1],\n",
       "       [1.4],\n",
       "       [5.3],\n",
       "       [1.4],\n",
       "       [1.6],\n",
       "       [1.3],\n",
       "       [5.6],\n",
       "       [1.4],\n",
       "       [1.9],\n",
       "       [4.8],\n",
       "       [4.4],\n",
       "       [3.9],\n",
       "       [1.5],\n",
       "       [3.9],\n",
       "       [1.3],\n",
       "       [6.7],\n",
       "       [1.5],\n",
       "       [1.7],\n",
       "       [4.6],\n",
       "       [3.3],\n",
       "       [4.2],\n",
       "       [6. ],\n",
       "       [5.7],\n",
       "       [1.9],\n",
       "       [3.7],\n",
       "       [1.4],\n",
       "       [4.4],\n",
       "       [5. ],\n",
       "       [4.5],\n",
       "       [6.4],\n",
       "       [1.5],\n",
       "       [4.1],\n",
       "       [6.1],\n",
       "       [5.4],\n",
       "       [1.4],\n",
       "       [5.6],\n",
       "       [4.5],\n",
       "       [4.7],\n",
       "       [6.7],\n",
       "       [4.2],\n",
       "       [1.4],\n",
       "       [5.1]])"
      ]
     },
     "execution_count": 57,
     "metadata": {},
     "output_type": "execute_result"
    }
   ],
   "source": [
    "X_test = np.array(X_test).reshape(-1, 1)\n",
    "X_test"
   ]
  },
  {
   "cell_type": "markdown",
   "metadata": {},
   "source": [
    "### Prepare Machine Learning Models"
   ]
  },
  {
   "cell_type": "code",
   "execution_count": 58,
   "metadata": {},
   "outputs": [],
   "source": [
    "from sklearn.linear_model import LinearRegression\n",
    "lr = LinearRegression()"
   ]
  },
  {
   "cell_type": "markdown",
   "metadata": {},
   "source": [
    "## Training the machine learning model"
   ]
  },
  {
   "cell_type": "code",
   "execution_count": 59,
   "metadata": {},
   "outputs": [
    {
     "data": {
      "text/plain": [
       "LinearRegression()"
      ]
     },
     "execution_count": 59,
     "metadata": {},
     "output_type": "execute_result"
    }
   ],
   "source": [
    "lr.fit(X_train, y_train)"
   ]
  },
  {
   "cell_type": "code",
   "execution_count": 60,
   "metadata": {},
   "outputs": [
    {
     "data": {
      "text/plain": [
       "-0.35113274221437507"
      ]
     },
     "execution_count": 60,
     "metadata": {},
     "output_type": "execute_result"
    }
   ],
   "source": [
    "c = lr.intercept_\n",
    "c"
   ]
  },
  {
   "cell_type": "code",
   "execution_count": 61,
   "metadata": {},
   "outputs": [
    {
     "data": {
      "text/plain": [
       "array([0.41684538])"
      ]
     },
     "execution_count": 61,
     "metadata": {},
     "output_type": "execute_result"
    }
   ],
   "source": [
    "m = lr.coef_\n",
    "m"
   ]
  },
  {
   "cell_type": "markdown",
   "metadata": {},
   "source": [
    "## Predictions"
   ]
  },
  {
   "cell_type": "markdown",
   "metadata": {},
   "source": [
    "### Predictions on the training data"
   ]
  },
  {
   "cell_type": "code",
   "execution_count": 62,
   "metadata": {},
   "outputs": [
    {
     "data": {
      "text/plain": [
       "array([1.73309416, 0.31581987, 1.31624878, 0.3575044 , 1.98320139,\n",
       "       1.31624878, 1.64972508, 1.98320139, 1.7747787 , 1.69140962,\n",
       "       0.23245079, 0.31581987, 1.98320139, 0.23245079, 0.31581987,\n",
       "       1.94151685, 1.7747787 , 1.31624878, 0.23245079, 1.35793332,\n",
       "       1.85814777, 1.52467147, 2.06657046, 2.40004677, 1.44130239,\n",
       "       0.19076625, 1.31624878, 1.69140962, 1.69140962, 1.31624878,\n",
       "       0.27413533, 1.52467147, 1.52467147, 1.27456424, 1.73309416,\n",
       "       1.64972508, 1.2328797 , 1.7747787 , 2.27499315, 2.19162408,\n",
       "       0.14908171, 2.02488593, 0.8994034 , 0.27413533, 2.108255  ,\n",
       "       1.64972508, 0.23245079, 1.52467147, 1.39961786, 1.81646324,\n",
       "       0.19076625, 0.06571264, 1.10782609, 0.10739718, 1.60804055,\n",
       "       1.39961786, 0.14908171, 2.06657046, 1.44130239, 1.52467147,\n",
       "       0.31581987, 2.52510038, 1.56635601, 1.7747787 , 1.98320139,\n",
       "       1.60804055, 0.27413533, 0.31581987, 1.94151685, 2.06657046,\n",
       "       1.48298693, 0.19076625, 1.81646324, 1.02445701, 2.02488593,\n",
       "       1.10782609, 0.19076625, 0.27413533, 0.27413533, 1.7747787 ,\n",
       "       0.23245079, 0.23245079, 1.69140962, 0.23245079, 1.48298693,\n",
       "       0.27413533, 1.56635601, 0.27413533, 0.19076625, 1.7747787 ])"
      ]
     },
     "execution_count": 62,
     "metadata": {},
     "output_type": "execute_result"
    }
   ],
   "source": [
    "y_pred_train = lr.predict(X_train)\n",
    "y_pred_train\n",
    "# Equivalent to:\n",
    "# y_pred_train = m*X_train + c\n",
    "# y_pred_train.flatten()"
   ]
  },
  {
   "cell_type": "code",
   "execution_count": 63,
   "metadata": {},
   "outputs": [
    {
     "data": {
      "text/plain": [
       "Text(0, 0.5, 'petal width')"
      ]
     },
     "execution_count": 63,
     "metadata": {},
     "output_type": "execute_result"
    },
    {
     "data": {
      "image/png": "[encoded data removed]",
      "text/plain": [
       "<Figure size 640x480 with 1 Axes>"
      ]
     },
     "metadata": {},
     "output_type": "display_data"
    }
   ],
   "source": [
    "# Original Data points\n",
    "plt.scatter(X_train, y_train, color = 'orange')\n",
    "# Model visualization\n",
    "plt.plot(X_train, y_pred_train, color = 'red')\n",
    "plt.xlabel(\"petal length\")\n",
    "plt.ylabel(\"petal width\")"
   ]
  },
  {
   "cell_type": "markdown",
   "metadata": {},
   "source": [
    "### Predictions on the test data"
   ]
  },
  {
   "cell_type": "code",
   "execution_count": 64,
   "metadata": {},
   "outputs": [
    {
     "data": {
      "text/plain": [
       "array([1.89983231, 2.14993954, 1.35793332, 0.27413533, 1.73309416,\n",
       "       1.69140962, 0.3575044 , 1.94151685, 0.3575044 , 1.14951063,\n",
       "       1.60804055, 0.31581987, 2.108255  , 0.27413533, 0.27413533,\n",
       "       1.7747787 , 1.52467147, 1.60804055, 2.19162408, 0.23245079,\n",
       "       1.85814777, 0.23245079, 0.31581987, 0.19076625, 1.98320139,\n",
       "       0.23245079, 0.44087348, 1.64972508, 1.48298693, 1.27456424,\n",
       "       0.27413533, 1.27456424, 0.19076625, 2.44173131, 0.27413533,\n",
       "       0.3575044 , 1.56635601, 1.02445701, 1.39961786, 2.14993954,\n",
       "       2.02488593, 0.44087348, 1.19119517, 0.23245079, 1.48298693,\n",
       "       1.73309416, 1.52467147, 2.31667769, 0.27413533, 1.35793332,\n",
       "       2.19162408, 1.89983231, 0.23245079, 1.98320139, 1.52467147,\n",
       "       1.60804055, 2.44173131, 1.39961786, 0.23245079, 1.7747787 ])"
      ]
     },
     "execution_count": 64,
     "metadata": {},
     "output_type": "execute_result"
    }
   ],
   "source": [
    "# lr is trained using y_train and X_train\n",
    "y_pred_test = lr.predict(X_test)\n",
    "y_pred_test"
   ]
  },
  {
   "cell_type": "code",
   "execution_count": 65,
   "metadata": {},
   "outputs": [
    {
     "data": {
      "text/plain": [
       "Text(0, 0.5, 'petal width')"
      ]
     },
     "execution_count": 65,
     "metadata": {},
     "output_type": "execute_result"
    },
    {
     "data": {
      "image/png": "[encoded data removed]",
      "text/plain": [
       "<Figure size 640x480 with 1 Axes>"
      ]
     },
     "metadata": {},
     "output_type": "display_data"
    }
   ],
   "source": [
    "plt.scatter(X_test, y_test, color = 'orange')\n",
    "plt.plot(X_test, y_pred_test, color = 'red')\n",
    "plt.xlabel(\"petal length\")\n",
    "plt.ylabel(\"petal width\")"
   ]
  },
  {
   "cell_type": "markdown",
   "metadata": {},
   "source": [
    "## Accuracy of machine learning model"
   ]
  },
  {
   "cell_type": "code",
   "execution_count": 72,
   "metadata": {},
   "outputs": [
    {
     "name": "stdout",
     "output_type": "stream",
     "text": [
      "Closer to 1 is better (Ranges between 0 and 1)\n",
      "R-squared on Training Data: 0.9307444954156013\n",
      "R-squared on Test Data: 0.9207765993420344\n",
      "-------------------------------------------------\n",
      "Closer to 0 is better\n",
      "Mean Squared Error on Training Data: 0.03911311497182593\n",
      "Mean Squared Error on Test Data: 0.04715090722659735\n",
      "-------------------------------------------------\n",
      "Closer to 0 is better\n",
      "Root Mean Squared Error on Training Data: 0.1977703591841455\n",
      "Root Mean Squared Error on Test Data: 0.21714259652725293\n",
      "-------------------------------------------------\n",
      "Closer to 0 is better\n",
      "Mean Absolute Error on Training Data: 0.15040506036498905\n",
      "Mean Absolute Error on Test Data: 0.17261071169476633\n",
      "-------------------------------------------------\n"
     ]
    }
   ],
   "source": [
    "from sklearn.metrics import r2_score\n",
    "from sklearn.metrics import mean_squared_error\n",
    "import numpy as np\n",
    "from sklearn.metrics import mean_absolute_error\n",
    "\n",
    "# r2\n",
    "r2_train = r2_score(y_train, y_pred_train)\n",
    "r2_test = r2_score(y_test, y_pred_test)\n",
    "print(\"Closer to 1 is better (Ranges between 0 and 1)\")\n",
    "print(f\"R-squared on Training Data: {r2_train}\")\n",
    "print(f\"R-squared on Test Data: {r2_test}\")\n",
    "print('-------------------------------------------------')\n",
    "\n",
    "# Mean Squared Error (MSE)\n",
    "mse_train = mean_squared_error(y_train, y_pred_train)\n",
    "mse_test = mean_squared_error(y_test, y_pred_test)\n",
    "print(\"Closer to 0 is better\")\n",
    "print(f\"Mean Squared Error on Training Data: {mse_train}\")\n",
    "print(f\"Mean Squared Error on Test Data: {mse_test}\")\n",
    "print('-------------------------------------------------')\n",
    "\n",
    "# Root Mean Squared Error (RMSE)\n",
    "rmse_train = np.sqrt(mse_train)\n",
    "rmse_test = np.sqrt(mse_test)\n",
    "print(\"Closer to 0 is better\")\n",
    "print(f\"Root Mean Squared Error on Training Data: {rmse_train}\")\n",
    "print(f\"Root Mean Squared Error on Test Data: {rmse_test}\")\n",
    "print('-------------------------------------------------')\n",
    "\n",
    "# Mean Absolute Error (MAE)\n",
    "mae_train = mean_absolute_error(y_train, y_pred_train)\n",
    "mae_test = mean_absolute_error(y_test, y_pred_test)\n",
    "print(\"Closer to 0 is better\")\n",
    "print(f\"Mean Absolute Error on Training Data: {mae_train}\")\n",
    "print(f\"Mean Absolute Error on Test Data: {mae_test}\")\n",
    "print('-------------------------------------------------')"
   ]
  }
 ],
 "metadata": {
  "kernelspec": {
   "display_name": "Python 3",
   "language": "python",
   "name": "python3"
  },
  "language_info": {
   "codemirror_mode": {
    "name": "ipython",
    "version": 3
   },
   "file_extension": ".py",
   "mimetype": "text/x-python",
   "name": "python",
   "nbconvert_exporter": "python",
   "pygments_lexer": "ipython3",
   "version": "3.9.12"
  }
 },
 "nbformat": 4,
 "nbformat_minor": 2
}
